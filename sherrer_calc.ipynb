{
 "cells": [
  {
   "cell_type": "code",
   "execution_count": 34,
   "id": "ad765d7c-35e1-4480-8125-3228220bedbe",
   "metadata": {
    "pycharm": {
     "name": "#%%\n"
    }
   },
   "outputs": [],
   "source": [
    "# -*- coding: UTF-8 -*-\n",
    "from glob import glob\n",
    "import sys\n",
    "import numpy as np\n",
    "import pandas as pd\n",
    "from scipy.stats import t\n",
    "import tabula"
   ]
  },
  {
   "cell_type": "code",
   "execution_count": 79,
   "id": "95f310e2-723b-49fc-b977-ce148258402e",
   "metadata": {
    "pycharm": {
     "name": "#%%\n"
    }
   },
   "outputs": [],
   "source": [
    "def read_table_from_pdf(pdf_name: str) -> pd.DataFrame:\n",
    "    \"\"\"Read a PDF File. Get DataFrame with data to process. It is the 1st table in the list of parsed tables\"\"\"\n",
    "    dfs = tabula.io.read_pdf(pdf_name, pages='1', pandas_options={'header': None})\n",
    "    xrd_data= dfs[0]\n",
    "    return xrd_data"
   ]
  },
  {
   "cell_type": "code",
   "execution_count": 80,
   "outputs": [],
   "source": [
    "def read_sample_name_from_pdf(pdf_name: str) -> tuple[str]:\n",
    "    \"\"\"Read a PDF File. Get DataFrame with data to process. It is the 1st table in the list of parsed tables\"\"\"\n",
    "    dfs = tabula.io.read_pdf(pdf_name, pages='2', lattice=True, pandas_options={'header': None})\n",
    "    sample_data, sample_name = dfs[1].at[2, 0], dfs[1].at[3, 0]\n",
    "    return sample_data, sample_name"
   ],
   "metadata": {
    "collapsed": false,
    "pycharm": {
     "name": "#%%\n"
    }
   }
  },
  {
   "cell_type": "code",
   "execution_count": 81,
   "id": "f185e7eb-60a0-4b35-9398-e13ef191bb59",
   "metadata": {
    "pycharm": {
     "name": "#%%\n"
    }
   },
   "outputs": [],
   "source": [
    "def clean_df(df: pd.DataFrame) -> pd.DataFrame:\n",
    "    \"\"\"Clean data in DataFrame. Get useful data of XRD measurement as '2Theta', 'd', 'I/I1', 'FWHM', 'Integrated Int'\"\"\"\n",
    "    df.drop(labels=[0, 1, 2, 3, 4, 5], axis=0, inplace=True)\n",
    "    df.reset_index(drop=True, inplace=True)\n",
    "    df.drop(columns=[0, 2], axis=1, inplace=True)\n",
    "    df.columns = ['2Theta', 'd', 'I/I1', 'FWHM', 'Integrated Int']\n",
    "    df = df.astype(float, errors = 'raise')\n",
    "    # discard low intensity data in DataFrame\n",
    "    df = df[df['I/I1'] > 10]\n",
    "    return df"
   ]
  },
  {
   "cell_type": "code",
   "execution_count": 82,
   "id": "9c172c95-1a5a-4c03-b969-4e4c13e012a4",
   "metadata": {
    "pycharm": {
     "name": "#%%\n"
    }
   },
   "outputs": [],
   "source": [
    "def get_user_input(k=0.94, l=1.54056) -> tuple:\n",
    "    \"\"\"\n",
    "    Get user input\n",
    "    :param k - is Scherrer's  constant. K varies from 0.68 to 2.08. K = 0.94 for spherical crystallites with cubic symmetry\n",
    "    :param l - is X-ray wavelength\"\"\"\n",
    "    question = input('Do you want to use the default values of k=0.94 (for spherical crystallites with cubic symmetry) and λ=1.54056 Å? Enter y/n.')\n",
    "    if question.lower() in ('n', 'no'):\n",
    "        k = float(input(\"Enter K - Scherrer's  constant. K varies from 0.68 to 2.08. K = 0.94 for spherical crystallites with cubic symmetry\"))\n",
    "        l = float(input('Enter λ - X-ray wavelength.'))\n",
    "    return k, l"
   ]
  },
  {
   "cell_type": "code",
   "execution_count": 83,
   "id": "5d72e332-b31c-47bb-9678-e21a36d22e36",
   "metadata": {
    "pycharm": {
     "name": "#%%\n"
    }
   },
   "outputs": [],
   "source": [
    "def calc_size(df: pd.DataFrame, k: float, l:float) -> pd.DataFrame:\n",
    "    \"\"\"Calculate the particle_size based on data in dataframe\"\"\"\n",
    "    radian = df['2Theta'] * np.pi / 360\n",
    "    df['particle_size, nm'] =(k * l) / (df['FWHM'] * np.pi * 10 * np.cos(radian) /180)\n",
    "    return df"
   ]
  },
  {
   "cell_type": "code",
   "execution_count": 84,
   "id": "3ba765c6-239b-486f-8956-298582561220",
   "metadata": {
    "pycharm": {
     "name": "#%%\n"
    }
   },
   "outputs": [],
   "source": [
    "def calc_mean_size(df: pd.DataFrame) -> float:\n",
    "    \"\"\"Calculate the mean size of the particles based on data in dataframe\"\"\"\n",
    "    mean_size= df['particle_size, nm'].mean().round()\n",
    "    return mean_size"
   ]
  },
  {
   "cell_type": "code",
   "execution_count": 85,
   "outputs": [],
   "source": [
    "def calc_error(df: pd.DataFrame, alpha=0.05) -> float:\n",
    "    \"\"\"Calculate the error of the particle size based on data in dataframe\n",
    "    Alpha is significance level = 5% by default, n - the number of measurements i.e. points\"\"\"\n",
    "    # Get the number of measurements i.e. points\n",
    "    n = len(df['particle_size, nm'])\n",
    "    # Calculate student t value\n",
    "    v = t.ppf(1 - alpha/2, (n-1))\n",
    "    # Calculate the error confidence interval\n",
    "    error = df['particle_size, nm'].std() * v / np.sqrt(n)\n",
    "    return error.round()"
   ],
   "metadata": {
    "collapsed": false,
    "pycharm": {
     "name": "#%%\n"
    }
   }
  },
  {
   "cell_type": "code",
   "execution_count": 88,
   "outputs": [],
   "source": [
    "def main(file_name):\n",
    "    \"\"\"Main function\"\"\"\n",
    "    df = read_table_from_pdf(file_name)\n",
    "    sample_data, sample_name = read_sample_name_from_pdf(file_name)\n",
    "    print(sample_data, sample_name)\n",
    "    df = clean_df(df)\n",
    "    print(f'Data after cleaning: \\n{df}')\n",
    "    k, l = get_user_input()\n",
    "    df = calc_size(df, k, l)\n",
    "    mean_size, error = calc_mean_size(df), calc_error(df)\n",
    "    print(f'The average crystallite size of the sample is {mean_size} nm, the error confidence interval is {error} nm\\n')"
   ],
   "metadata": {
    "collapsed": false,
    "pycharm": {
     "name": "#%%\n"
    }
   }
  },
  {
   "cell_type": "code",
   "execution_count": 89,
   "id": "a8f809e2-b114-4d7e-b95a-40015ec284bd",
   "metadata": {
    "pycharm": {
     "name": "#%%\n"
    }
   },
   "outputs": [
    {
     "name": "stdout",
     "output_type": "stream",
     "text": [
      "Data                : 8717 Sample Nmae         : Bi1.5 Sc0.5 O7_650_6h\n",
      "Data after cleaning: \n",
      "     2Theta        d   I/I1    FWHM  Integrated Int\n",
      "1   14.8695  5.95300   23.0  0.2621      11507438.0\n",
      "2   28.6914  3.10891   18.0  0.2516       9146779.0\n",
      "3   30.0005  2.97616  100.0  0.2587     497230830.0\n",
      "5   34.7713  2.57796   26.0  0.2798      13149738.0\n",
      "6   38.0086  2.36550   17.0  0.2952       8456391.0\n",
      "8   49.9674  1.82380   24.0  0.3729     121110823.0\n",
      "10  59.3395  1.55616   16.0  0.3906       7986966.0\n",
      "The average crystallite size of the sample is 30.0 nm, the error confidence interval is 4.0 nm\n",
      "\n",
      "Data                : 9991 Sample Nmae         : KBi12TiO20_600_5h\n",
      "Data after cleaning: \n",
      "     2Theta        d   I/I1    FWHM  Integrated Int\n",
      "1   24.7040  3.60093   21.0  0.1520    1.267746e+09\n",
      "3   27.6776  3.22044  100.0  0.1507    6.057520e+10\n",
      "5   30.3825  2.93961   23.0  0.1649    1.368653e+09\n",
      "6   32.8854  2.72137   68.0  0.1589    4.089215e+10\n",
      "10  41.5714  2.17063   13.0  0.1856    8.047346e+08\n",
      "12  45.3871  1.99662   15.0  0.1798    8.992380e+08\n",
      "14  52.3624  1.74588   31.0  0.2050    1.857389e+09\n",
      "15  53.9975  1.69680   16.0  0.1914    9.575420e+08\n",
      "16  55.6055  1.65148   21.0  0.2189    1.280666e+09\n",
      "19  61.7528  1.50101   15.0  0.2361    8.822484e+08\n",
      "The average crystallite size of the sample is 49.0 nm, the error confidence interval is 4.0 nm\n",
      "\n"
     ]
    }
   ],
   "source": [
    "if __name__ == '__main__':\n",
    "    file_names = list(glob('*.pdf'))\n",
    "    if not file_names:\n",
    "        file_names = sys.argv[1:]\n",
    "    for name in file_names:\n",
    "        main(file_name=name)\n",
    "\n"
   ]
  }
 ],
 "metadata": {
  "kernelspec": {
   "display_name": "Python 3 (ipykernel)",
   "language": "python",
   "name": "python3"
  },
  "language_info": {
   "codemirror_mode": {
    "name": "ipython",
    "version": 3
   },
   "file_extension": ".py",
   "mimetype": "text/x-python",
   "name": "python",
   "nbconvert_exporter": "python",
   "pygments_lexer": "ipython3",
   "version": "3.10.6"
  }
 },
 "nbformat": 4,
 "nbformat_minor": 5
}