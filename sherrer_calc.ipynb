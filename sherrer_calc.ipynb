{
 "cells": [
  {
   "cell_type": "code",
   "execution_count": null,
   "outputs": [],
   "source": [
    "# -*- coding: UTF-8 -*-\n",
    "\"\"\"Automatic XRD crystallite (grain) size calculator (Scherrer Equation)\"\"\"\n",
    "\n",
    "from glob import glob\n",
    "import sys\n",
    "import numpy as np\n",
    "import pandas as pd\n",
    "from scipy.stats import t\n",
    "import tabula"
   ],
   "metadata": {
    "collapsed": false,
    "pycharm": {
     "name": "#%%\n"
    }
   }
  },
  {
   "cell_type": "code",
   "execution_count": 52,
   "outputs": [],
   "source": [
    "def read_table_from_pdf(pdf_name: str) -> pd.DataFrame:\n",
    "    \"\"\"Read a PDF File. Get DataFrame with XRD data to process.\n",
    "    It is the 1st table in the list of parsed tables\"\"\"\n",
    "    dfs = tabula.io.read_pdf(pdf_name, pages='1', pandas_options={'header': None})\n",
    "    xrd_data = dfs[0]\n",
    "    return xrd_data"
   ],
   "metadata": {
    "collapsed": false,
    "pycharm": {
     "name": "#%%\n"
    }
   }
  },
  {
   "cell_type": "code",
   "execution_count": 53,
   "outputs": [],
   "source": [
    "def read_sample_name_from_pdf(pdf_name: str) -> tuple[str]:\n",
    "    \"\"\"Read a PDF File to get the sample data and sample name.\"\"\"\n",
    "    dfs = tabula.io.read_pdf(pdf_name, pages='2', lattice=True, pandas_options={'header': None})\n",
    "    sample_data = dfs[1].at[2, 0].split(':')[1].strip()\n",
    "    sample_name = dfs[1].at[3, 0].split(':')[1].strip()\n",
    "    return sample_data, sample_name"
   ],
   "metadata": {
    "collapsed": false,
    "pycharm": {
     "name": "#%%\n"
    }
   }
  },
  {
   "cell_type": "code",
   "execution_count": 54,
   "outputs": [],
   "source": [
    "def clean_df(df: pd.DataFrame) -> pd.DataFrame:\n",
    "    \"\"\"Clean data in DataFrame.\n",
    "    Represent useful data of XRD measurement as '2Theta', 'd', 'I/I1', 'FWHM', 'Integrated Int'.\"\"\"\n",
    "    df.drop(labels=[0, 1, 2, 3, 4, 5], axis=0, inplace=True)\n",
    "    df.reset_index(drop=True, inplace=True)\n",
    "    df.drop(columns=[0, 2], axis=1, inplace=True)\n",
    "    df.columns = ['2Theta', 'd', 'I/I1', 'FWHM', 'Integrated Int']\n",
    "    df = df.astype(float)\n",
    "    # discard low intensity data in DataFrame\n",
    "    df = df[df['I/I1'] > 10]\n",
    "    return df"
   ],
   "metadata": {
    "collapsed": false,
    "pycharm": {
     "name": "#%%\n"
    }
   }
  },
  {
   "cell_type": "code",
   "execution_count": 55,
   "outputs": [],
   "source": [
    "def get_user_input(k=0.94, l=1.54056) -> tuple:\n",
    "    \"\"\"Get user input\n",
    "    :param k - is Scherrer's  constant.\n",
    "    k varies from 0.68 to 2.08. k = 0.94 for spherical crystallites with cubic symmetry\n",
    "    :param l - is X-ray wavelength\"\"\"\n",
    "    question = input('Do you want to use the default values of k=0.94 (for spherical crystallites with cubic symmetry) and λ=1.54056 Å? Enter y/n.')\n",
    "    if question.lower() in ('n', 'no'):\n",
    "        try:\n",
    "            k = float(input(\"Enter K - Scherrer's  constant. K varies from 0.68 to 2.08. K = 0.94 for spherical crystallites with cubic symmetry\"))\n",
    "            l = float(input('Enter λ - X-ray wavelength.'))\n",
    "        except ValueError:\n",
    "            print(\"Please enter the values with dot only e.g. 0.94 or 1.54056.\")\n",
    "    if question.lower() not in ('yes', 'no', 'y', 'n'):\n",
    "        print('Please enter y/n.')\n",
    "    print(f'The program is using the following values: k={k} and λ={l} Å,')\n",
    "    return k, l"
   ],
   "metadata": {
    "collapsed": false,
    "pycharm": {
     "name": "#%%\n"
    }
   }
  },
  {
   "cell_type": "code",
   "execution_count": 56,
   "outputs": [],
   "source": [
    "def calc_size(df: pd.DataFrame, k: float, l: float) -> pd.DataFrame:\n",
    "    \"\"\"Calculate the particle_size based on the data in dataframe\"\"\"\n",
    "    radian = df['2Theta'] * np.pi / 360\n",
    "    df['particle_size, nm'] = (k * l) / (df['FWHM'] * np.pi * 10 * np.cos(radian) / 180)\n",
    "    return df"
   ],
   "metadata": {
    "collapsed": false,
    "pycharm": {
     "name": "#%%\n"
    }
   }
  },
  {
   "cell_type": "code",
   "execution_count": 57,
   "outputs": [],
   "source": [
    "def calc_mean_size(df: pd.DataFrame) -> float:\n",
    "    \"\"\"Calculate the mean size of the particles based on the data in dataframe\"\"\"\n",
    "    mean_size = df['particle_size, nm'].mean().round()\n",
    "    return mean_size"
   ],
   "metadata": {
    "collapsed": false,
    "pycharm": {
     "name": "#%%\n"
    }
   }
  },
  {
   "cell_type": "code",
   "execution_count": 58,
   "outputs": [],
   "source": [
    "def calc_error(df: pd.DataFrame, alpha=0.05) -> float:\n",
    "    \"\"\"Calculate the measurement error of the particle size based on data in dataframe\n",
    "    Alpha is significance level = 5% by default, n - the number of measurements i.e. points\"\"\"\n",
    "    # Get the number of measurements i.e. points\n",
    "    n = len(df['particle_size, nm'])\n",
    "    # Calculate student t value\n",
    "    v = t.ppf(1 - alpha/2, (n-1))\n",
    "    # Calculate the error confidence interval\n",
    "    error = df['particle_size, nm'].std() * v / np.sqrt(n)\n",
    "    return error.round()"
   ],
   "metadata": {
    "collapsed": false,
    "pycharm": {
     "name": "#%%\n"
    }
   }
  },
  {
   "cell_type": "code",
   "execution_count": 69,
   "outputs": [],
   "source": [
    "def write_data_in_file(sample_name, sample_data, mean_size, error):\n",
    "    \"\"\"Export data in csv file\"\"\"\n",
    "    dict_ = {'sample_name': [sample_name],\n",
    "             'sample_data': [sample_data],\n",
    "             'mean_size, nm': [mean_size],\n",
    "             'error, nm': [error],\n",
    "             }\n",
    "    df = pd.DataFrame(dict_)\n",
    "    if glob('sherrer_size_data.csv'):\n",
    "        mode = 'a'\n",
    "        header = False\n",
    "    else:\n",
    "        mode = 'w'\n",
    "        header = list(dict_.keys())\n",
    "    with open('sherrer_size_data.csv', mode=mode, encoding='utf-8') as f:\n",
    "        df.to_csv(f, header=header, index=False)"
   ],
   "metadata": {
    "collapsed": false,
    "pycharm": {
     "name": "#%%\n"
    }
   }
  },
  {
   "cell_type": "code",
   "execution_count": 70,
   "outputs": [],
   "source": [
    "def main(file_name: str):\n",
    "    \"\"\"Main function\"\"\"\n",
    "    df = read_table_from_pdf(file_name)\n",
    "    sample_data, sample_name = read_sample_name_from_pdf(file_name)\n",
    "    df = clean_df(df)\n",
    "    print(f'Data after cleaning: \\n{df}')\n",
    "    k, l = get_user_input()\n",
    "    df = calc_size(df, k, l)\n",
    "    mean_size, error = calc_mean_size(df), calc_error(df)\n",
    "    print(f'The average crystallite size of the sample is {mean_size} nm, '\n",
    "          f'the error confidence interval is {error} nm\\n')\n",
    "    write_data_in_file(sample_name, sample_data, mean_size, error)"
   ],
   "metadata": {
    "collapsed": false,
    "pycharm": {
     "name": "#%%\n"
    }
   }
  },
  {
   "cell_type": "code",
   "execution_count": 72,
   "outputs": [
    {
     "name": "stdout",
     "output_type": "stream",
     "text": [
      "8891 1\n",
      "Data after cleaning: \n",
      "     2Theta        d   I/I1    FWHM  Integrated Int\n",
      "1   14.9135  5.93553   23.0  0.3316       5535083.0\n",
      "7   28.6711  3.11106   27.0  0.3275       6587559.0\n",
      "8   29.9624  2.97986  100.0  0.2930     243120338.0\n",
      "12  34.7058  2.58268   31.0  0.2395       7444653.0\n",
      "13  37.9277  2.37036   18.0  0.2092       4352599.0\n",
      "16  49.8088  1.82923   26.0  0.2855       6415244.0\n",
      "22  59.1074  1.56172   19.0  0.3148       4574025.0\n",
      "The program is using the following values: k=0.94 and λ=1.54056 Å,\n",
      "The average crystallite size of the sample is 32.0 nm, the error confidence interval is 5.0 nm\n",
      "\n",
      "9068 Bi1.5 Ti2 O7-d\n",
      "Data after cleaning: \n",
      "    2Theta        d   I/I1    FWHM  Integrated Int\n",
      "0  14.8927  5.94377   24.0  0.2024     223912151.0\n",
      "1  28.6894  3.10912   20.0  0.1888      18599303.0\n",
      "2  29.9956  2.97664  100.0  0.1867     936039977.0\n",
      "4  34.7650  2.57842   26.0  0.2078     247312459.0\n",
      "5  37.9824  2.36707   17.0  0.1994      16097987.0\n",
      "7  49.9426  1.82465   28.0  0.2176     261813593.0\n",
      "9  59.3274  1.55645   18.0  0.2319      16879341.0\n",
      "The program is using the following values: k=0.94 and λ=1.54056 Å,\n",
      "The average crystallite size of the sample is 43.0 nm, the error confidence interval is 2.0 nm\n",
      "\n"
     ]
    }
   ],
   "source": [
    "if __name__ == '__main__':\n",
    "    file_names = list(glob('*.pdf'))\n",
    "    if not file_names:\n",
    "        file_names = sys.argv[1:]\n",
    "    for name in file_names:\n",
    "        main(file_name=name)"
   ],
   "metadata": {
    "collapsed": false,
    "pycharm": {
     "name": "#%%\n"
    }
   }
  }
 ],
 "metadata": {
  "kernelspec": {
   "display_name": "Python 3 (ipykernel)",
   "language": "python",
   "name": "python3"
  },
  "language_info": {
   "codemirror_mode": {
    "name": "ipython",
    "version": 3
   },
   "file_extension": ".py",
   "mimetype": "text/x-python",
   "name": "python",
   "nbconvert_exporter": "python",
   "pygments_lexer": "ipython3",
   "version": "3.10.6"
  }
 },
 "nbformat": 4,
 "nbformat_minor": 5
}