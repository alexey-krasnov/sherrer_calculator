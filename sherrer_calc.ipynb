{
 "cells": [
  {
   "cell_type": "code",
   "execution_count": 1,
   "id": "ad765d7c-35e1-4480-8125-3228220bedbe",
   "metadata": {},
   "outputs": [],
   "source": [
    "# -*- coding: UTF-8 -*-\n",
    "import numpy as np\n",
    "import pandas as pd\n",
    "import tabula"
   ]
  },
  {
   "cell_type": "code",
   "execution_count": 2,
   "id": "95f310e2-723b-49fc-b977-ce148258402e",
   "metadata": {},
   "outputs": [],
   "source": [
    "def read_table_from_pdf(pdf_name: str) -> pd.DataFrame:\n",
    "    \"\"\"Read a PDF File. Get DataFrame with data to process. It is the 1th table in list of parsed tables\"\"\"\n",
    "    dfs = tabula.io.read_pdf(pdf_name, pages='1', pandas_options={'header': None})\n",
    "    # print(len(dfs), *dfs, sep='\\n\\n')\n",
    "    return dfs[0]"
   ]
  },
  {
   "cell_type": "code",
   "execution_count": 3,
   "id": "f185e7eb-60a0-4b35-9398-e13ef191bb59",
   "metadata": {},
   "outputs": [],
   "source": [
    "def clean_df(df: pd.DataFrame) -> pd.DataFrame:\n",
    "    # Clean data in DataFrame\n",
    "    df.drop(labels=[0, 1, 2, 3, 4, 5], axis=0, inplace=True)\n",
    "    df.reset_index(drop=True, inplace=True)\n",
    "    df.drop(columns=[0, 2], axis=1, inplace=True)\n",
    "    df.columns = ['2Theta', 'd', 'I/I1', 'FWHM', 'Integrated Int']\n",
    "    df = df.astype(float, errors = 'raise')\n",
    "    return df"
   ]
  },
  {
   "cell_type": "code",
   "execution_count": 4,
   "id": "9c172c95-1a5a-4c03-b969-4e4c13e012a4",
   "metadata": {},
   "outputs": [],
   "source": [
    "def get_uset_input(k=0.94, l=1.54056) -> tuple:\n",
    "    question = input('Do you want to use the default values of k=0.94 (for spherical crystallites with cubic symmetry) and λ=1.54056 Å? Enter y/n.')\n",
    "    if question.lower() in ('n', 'no'):\n",
    "        k = float(input('Enter K - Scherrer constant. K varies from 0.68 to 2.08. K = 0.94 for spherical crystallites with cubic symmetry'))\n",
    "        l = float(input('Enter λ - X-ray wavelength.'))\n",
    "    return k, l"
   ]
  },
  {
   "cell_type": "code",
   "execution_count": 5,
   "id": "5d72e332-b31c-47bb-9678-e21a36d22e36",
   "metadata": {},
   "outputs": [],
   "source": [
    "def calc_size(df: pd.DataFrame, k: float, l:float) -> pd.DataFrame:\n",
    "    radian = df['2Theta'] * np.pi / 360\n",
    "    df['particle_size, nm'] =(k * l) / (df['FWHM'] * np.pi * 10 * np.cos(radian) /180)\n",
    "    return df"
   ]
  },
  {
   "cell_type": "code",
   "execution_count": 16,
   "id": "3ba765c6-239b-486f-8956-298582561220",
   "metadata": {},
   "outputs": [],
   "source": [
    "def calc_mean_std_size(df: pd.DataFrame) -> tuple:\n",
    "    df = df[df['I/I1'] > 10]\n",
    "    mean_size, std = df['particle_size, nm'].mean().round(), df['particle_size, nm'].std().round()\n",
    "    return mean_size, std"
   ]
  },
  {
   "cell_type": "code",
   "execution_count": 19,
   "id": "a8f809e2-b114-4d7e-b95a-40015ec284bd",
   "metadata": {},
   "outputs": [
    {
     "name": "stdin",
     "output_type": "stream",
     "text": [
      "Do you want to use the default values of k=0.94 (for spherical crystallites with cubic symmetry) and λ=1.54056 Å? Enter y/n. y\n"
     ]
    },
    {
     "name": "stdout",
     "output_type": "stream",
     "text": [
      "The average crystallite size of the sample is 49.0, //n the standard deviation is 5.0\n"
     ]
    }
   ],
   "source": [
    "if __name__ == '__main__':\n",
    "    df = read_table_from_pdf('Untitled.pdf')\n",
    "    df = clean_df(df)\n",
    "    k,l = get_uset_input()\n",
    "    df = calc_size(df, k, l)\n",
    "    mean_size, std = calc_mean_std_size(df)\n",
    "    print(f'The average crystallite size of the sample is {mean_size}, the standard deviation is {std}')"
   ]
  }
 ],
 "metadata": {
  "kernelspec": {
   "display_name": "Python 3 (ipykernel)",
   "language": "python",
   "name": "python3"
  },
  "language_info": {
   "codemirror_mode": {
    "name": "ipython",
    "version": 3
   },
   "file_extension": ".py",
   "mimetype": "text/x-python",
   "name": "python",
   "nbconvert_exporter": "python",
   "pygments_lexer": "ipython3",
   "version": "3.10.6"
  }
 },
 "nbformat": 4,
 "nbformat_minor": 5
}
