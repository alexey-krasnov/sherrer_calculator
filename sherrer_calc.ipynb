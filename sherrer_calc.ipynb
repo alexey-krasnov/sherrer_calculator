{
 "cells": [
  {
   "cell_type": "code",
   "execution_count": 24,
   "outputs": [],
   "source": [
    "# -*- coding: UTF-8 -*-\n",
    "\"\"\"Automatic XRD crystallite (grain) size calculator (Scherrer Equation)\"\"\"\n",
    "\n",
    "from glob import glob\n",
    "import sys\n",
    "import numpy as np\n",
    "import pandas as pd\n",
    "from scipy.stats import t\n",
    "import tabula"
   ],
   "metadata": {
    "collapsed": false
   }
  },
  {
   "cell_type": "code",
   "execution_count": 25,
   "outputs": [],
   "source": [
    "def read_table_from_pdf(pdf_name: str) -> pd.DataFrame:\n",
    "    \"\"\"Read a PDF File. Get DataFrame with XRD data to process.\n",
    "    It is the 1st table in the list of parsed tables\"\"\"\n",
    "    dfs = tabula.io.read_pdf(pdf_name, pages='1', pandas_options={'header': None})\n",
    "    xrd_data = dfs[0]\n",
    "    return xrd_data"
   ],
   "metadata": {
    "collapsed": false
   }
  },
  {
   "cell_type": "code",
   "execution_count": 26,
   "outputs": [],
   "source": [
    "def read_sample_name_from_pdf(pdf_name: str) -> tuple[str]:\n",
    "    \"\"\"Read a PDF File to get the sample data and sample name.\"\"\"\n",
    "    dfs = tabula.io.read_pdf(pdf_name, pages='2', lattice=True, pandas_options={'header': None})\n",
    "    sample_data = dfs[1].at[2, 0].split(':')[1].strip()\n",
    "    sample_name = dfs[1].at[3, 0].split(':')[1].strip()\n",
    "    return sample_data, sample_name"
   ],
   "metadata": {
    "collapsed": false
   }
  },
  {
   "cell_type": "code",
   "execution_count": 28,
   "outputs": [],
   "source": [
    "def clean_df(df: pd.DataFrame) -> pd.DataFrame:\n",
    "    \"\"\"Clean data in DataFrame.\n",
    "    Represent useful data of XRD measurement as '2Theta', 'd', 'I/I1', 'FWHM', 'Integrated Int'.\"\"\"\n",
    "    df.drop(labels=[0, 1, 2, 3, 4, 5], axis=0, inplace=True)\n",
    "    df.reset_index(drop=True, inplace=True)\n",
    "    df.drop(columns=[0, 2], axis=1, inplace=True)\n",
    "    df.columns = ['2Theta', 'd', 'I/I1', 'FWHM', 'Integrated Int']\n",
    "    df = df.astype(float)\n",
    "    # discard low intensity data in DataFrame\n",
    "    df = df[df['I/I1'] > 10]\n",
    "    return df"
   ],
   "metadata": {
    "collapsed": false
   }
  },
  {
   "cell_type": "code",
   "execution_count": 29,
   "outputs": [],
   "source": [
    "def get_user_input(k=0.94, l=1.54056) -> tuple:\n",
    "    \"\"\"Get user input\n",
    "    :param k - is Scherrer's  constant.\n",
    "    k varies from 0.68 to 2.08. k = 0.94 for spherical crystallites with cubic symmetry\n",
    "    :param l - is X-ray wavelength\"\"\"\n",
    "    question = input(f'Do you want to use the default values of k={k} (for spherical crystallites with cubic symmetry) and λ=1.54056 Å? Enter y/n.')\n",
    "    if question.lower() in ('n', 'no'):\n",
    "        try:\n",
    "            k = float(input(\"Enter K - Scherrer's  constant. K varies from 0.68 to 2.08. K = 0.94 for spherical crystallites with cubic symmetry\"))\n",
    "            l = float(input('Enter λ - X-ray wavelength.'))\n",
    "        except ValueError:\n",
    "            print(\"Please enter the values with dot only e.g. 0.94 or 1.54056.\")\n",
    "    if question.lower() not in ('yes', 'no', 'y', 'n'):\n",
    "        print('Please enter y/n.')\n",
    "    print(f'The program is using the following values: k={k} and λ={l} Å,')\n",
    "    return k, l"
   ],
   "metadata": {
    "collapsed": false
   }
  },
  {
   "cell_type": "code",
   "execution_count": 30,
   "outputs": [],
   "source": [
    "def calc_size(df: pd.DataFrame, k: float, l: float) -> pd.DataFrame:\n",
    "    \"\"\"Calculate the particle_size based on the data in dataframe\"\"\"\n",
    "    radian = df['2Theta'] * np.pi / 360\n",
    "    df['particle_size, nm'] = (k * l) / (df['FWHM'] * np.pi * 10 * np.cos(radian) / 180)\n",
    "    return df"
   ],
   "metadata": {
    "collapsed": false
   }
  },
  {
   "cell_type": "code",
   "execution_count": 31,
   "outputs": [],
   "source": [
    "def calc_mean_size(df: pd.DataFrame) -> float:\n",
    "    \"\"\"Calculate the mean size of the particles based on the data in dataframe\"\"\"\n",
    "    mean_size = df['particle_size, nm'].mean().round()\n",
    "    return mean_size"
   ],
   "metadata": {
    "collapsed": false
   }
  },
  {
   "cell_type": "code",
   "execution_count": 32,
   "outputs": [],
   "source": [
    "def calc_error(df: pd.DataFrame, alpha=0.05) -> float:\n",
    "    \"\"\"Calculate the measurement error of the particle size based on data in dataframe\n",
    "    Alpha is significance level = 5% by default, n - the number of measurements i.e. points\"\"\"\n",
    "    # Get the number of measurements i.e. points\n",
    "    n = len(df['particle_size, nm'])\n",
    "    # Calculate student t value\n",
    "    v = t.ppf(1 - alpha/2, (n-1))\n",
    "    # Calculate the error confidence interval\n",
    "    error = df['particle_size, nm'].std() * v / np.sqrt(n)\n",
    "    return error.round()"
   ],
   "metadata": {
    "collapsed": false
   }
  },
  {
   "cell_type": "code",
   "execution_count": 33,
   "outputs": [],
   "source": [
    "def write_data_in_file(sample_name, sample_data, mean_size, error):\n",
    "    \"\"\"Export data in csv file\"\"\"\n",
    "    dict_ = {'sample_name': [sample_name],\n",
    "             'sample_data': [sample_data],\n",
    "             'mean_size, nm': [mean_size],\n",
    "             'error, nm': [error],\n",
    "             }\n",
    "    df = pd.DataFrame(dict_)\n",
    "    if glob('sherrer_size_data.csv'):\n",
    "        mode = 'a'\n",
    "        header = False\n",
    "    else:\n",
    "        mode = 'w'\n",
    "        header = list(dict_.keys())\n",
    "    with open('sherrer_size_data.csv', mode=mode, encoding='utf-8') as f:\n",
    "        df.to_csv(f, header=header, index=False)"
   ],
   "metadata": {
    "collapsed": false
   }
  },
  {
   "cell_type": "code",
   "execution_count": 34,
   "outputs": [],
   "source": [
    "def main(file_name: str):\n",
    "    \"\"\"Main function\"\"\"\n",
    "    df = read_table_from_pdf(file_name)\n",
    "    sample_data, sample_name = read_sample_name_from_pdf(file_name)\n",
    "    df = clean_df(df)\n",
    "    print(f'Data after cleaning: \\n{df}')\n",
    "    k, l = get_user_input()\n",
    "    df = calc_size(df, k, l)\n",
    "    mean_size, error = calc_mean_size(df), calc_error(df)\n",
    "    print(f'The average crystallite size of the sample {file_name} is {mean_size} nm, '\n",
    "          f'the error confidence interval is {error} nm\\n')\n",
    "    write_data_in_file(sample_name, sample_data, mean_size, error)"
   ],
   "metadata": {
    "collapsed": false
   }
  },
  {
   "cell_type": "code",
   "execution_count": 35,
   "outputs": [
    {
     "name": "stdout",
     "output_type": "stream",
     "text": [
      "Data after cleaning: \n",
      "     2Theta        d   I/I1    FWHM  Integrated Int\n",
      "3   23.0149  3.86124   14.0  0.6249    1.802276e+08\n",
      "6   29.3000  3.04570   12.0  0.4902    1.556215e+08\n",
      "7   29.9970  2.97650  100.0  0.4265    1.256313e+10\n",
      "8   32.6475  2.74065   40.0  0.3895    5.040527e+08\n",
      "11  39.5013  2.27948   19.0  0.4795    2.395330e+08\n",
      "12  46.8842  1.93629   17.0  0.5310    2.181268e+08\n",
      "18  56.7009  1.62215   22.0  0.5621    2.776375e+08\n",
      "The program is using the following values: k=0.89 and λ=1.54056 Å,\n",
      "The average crystallite size of the sample OCR_calc/10010.pdf is 17.0 nm, the error confidence interval is 2.0 nm\n",
      "\n",
      "Data after cleaning: \n",
      "     2Theta        d   I/I1    FWHM  Integrated Int\n",
      "2   23.1266  3.84285   17.0  0.5721    2.520390e+08\n",
      "4   29.9916  2.97703  100.0  0.5324    1.518622e+10\n",
      "5   32.7655  2.73105   51.0  0.3748    7.675810e+08\n",
      "7   39.6745  2.26993   23.0  0.4044    3.509330e+08\n",
      "9   47.1061  1.92769   21.0  0.5140    3.257305e+08\n",
      "14  56.9295  1.61618   22.0  0.6186    3.299550e+08\n",
      "The program is using the following values: k=0.89 and λ=1.54056 Å,\n",
      "The average crystallite size of the sample OCR_calc/10046.pdf is 17.0 nm, the error confidence interval is 3.0 nm\n",
      "\n",
      "Data after cleaning: \n",
      "     2Theta        d   I/I1    FWHM  Integrated Int\n",
      "3   23.2677  3.81986   15.0  0.5990    2.611401e+08\n",
      "6   30.1529  2.96147  100.0  0.5146    1.799824e+10\n",
      "7   32.9056  2.71974   51.0  0.3691    9.089928e+08\n",
      "13  39.7628  2.26509   22.0  0.4050    3.902362e+08\n",
      "15  47.2280  1.92300   22.0  0.4699    4.027374e+08\n",
      "22  57.0595  1.61281   22.0  0.5727    4.012551e+08\n",
      "The program is using the following values: k=0.89 and λ=1.54056 Å,\n",
      "The average crystallite size of the sample OCR_calc/10088.pdf is 18.0 nm, the error confidence interval is 3.0 nm\n",
      "\n",
      "Data after cleaning: \n",
      "     2Theta        d   I/I1    FWHM  Integrated Int\n",
      "4   23.4042  3.79789   15.0  0.2359    6.969429e+08\n",
      "6   30.1356  2.96313  100.0  0.2283    4.560926e+10\n",
      "7   33.1108  2.70335   32.0  0.2577    1.472895e+09\n",
      "12  39.9337  2.25579   13.0  0.2746    5.924398e+08\n",
      "15  47.5382  1.91117   16.0  0.3132    7.458472e+08\n",
      "20  51.5859  1.77031   11.0  0.3252    5.225370e+08\n",
      "23  57.3382  1.60563   16.0  0.3889    7.274705e+08\n",
      "The program is using the following values: k=0.89 and λ=1.54056 Å,\n",
      "The average crystallite size of the sample OCR_calc/10089.pdf is 30.0 nm, the error confidence interval is 4.0 nm\n",
      "\n",
      "Data after cleaning: \n",
      "     2Theta        d   I/I1    FWHM  Integrated Int\n",
      "3   23.1782  3.83441   14.0  0.6896    1.788236e+08\n",
      "9   30.1101  2.96558  100.0  0.5715    1.286920e+10\n",
      "11  32.8590  2.72349   61.0  0.3166    7.887685e+08\n",
      "13  39.7492  2.26584   29.0  0.3414    3.718264e+08\n",
      "16  47.1886  1.92451   28.0  0.3840    3.615318e+08\n",
      "22  57.0107  1.61407   23.0  0.6211    2.995409e+08\n",
      "The program is using the following values: k=0.89 and λ=1.54056 Å,\n",
      "The average crystallite size of the sample OCR_calc/10090.pdf is 19.0 nm, the error confidence interval is 6.0 nm\n",
      "\n",
      "Data after cleaning: \n",
      "     2Theta        d   I/I1    FWHM  Integrated Int\n",
      "3   23.3917  3.79989   17.0  0.4621    2.082260e+08\n",
      "6   30.2075  2.95624  100.0  0.4045    1.221912e+10\n",
      "8   33.0401  2.70898   44.0  0.3322    5.336464e+08\n",
      "13  39.9006  2.25759   22.0  0.3021    2.707224e+08\n",
      "16  47.3800  1.91718   20.0  0.4076    2.483215e+08\n",
      "19  51.6500  1.76827   11.0  0.5660    1.313133e+08\n",
      "25  57.1809  1.60967   21.0  0.5278    2.528297e+08\n",
      "The program is using the following values: k=0.89 and λ=1.54056 Å,\n",
      "The average crystallite size of the sample OCR_calc/9743.pdf is 20.0 nm, the error confidence interval is 4.0 nm\n",
      "\n"
     ]
    }
   ],
   "source": [
    "if __name__ == '__main__':\n",
    "    file_names = sorted(glob('*.pdf'))\n",
    "    if not file_names:\n",
    "        file_names = sys.argv[1:]\n",
    "    for name in file_names:\n",
    "        main(file_name=name)"
   ],
   "metadata": {
    "collapsed": false
   }
  },
  {
   "cell_type": "code",
   "execution_count": null,
   "outputs": [],
   "source": [],
   "metadata": {
    "collapsed": false
   }
  }
 ],
 "metadata": {
  "kernelspec": {
   "display_name": "Python 3 (ipykernel)",
   "language": "python",
   "name": "python3"
  },
  "language_info": {
   "codemirror_mode": {
    "name": "ipython",
    "version": 3
   },
   "file_extension": ".py",
   "mimetype": "text/x-python",
   "name": "python",
   "nbconvert_exporter": "python",
   "pygments_lexer": "ipython3",
   "version": "3.10.6"
  }
 },
 "nbformat": 4,
 "nbformat_minor": 5
}
